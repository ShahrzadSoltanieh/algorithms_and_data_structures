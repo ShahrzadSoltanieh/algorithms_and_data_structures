{
 "cells": [
  {
   "cell_type": "markdown",
   "metadata": {},
   "source": [
    "# Coding Problems\n",
    "\n",
    "## Objective\n",
    "\n",
    "This assignment aims to demonstrate how to study a data structures or algorithms question in depth to prepare for an industry coding interview. Leetcode is a popular coding practice site that many use to practice for technical interviews. Like behavioral interviews, it's important to practice and keep your skills sharp.\n",
    "\n",
    "## Group Size\n",
    "\n",
    "Please complete this individually.\n",
    "\n",
    "## Part 1:\n",
    "\n",
    "_*You will be assigned one of three problems based of your first name. Execute the code below, and that will tell you your assigned problem. Include the output as part of your submission (do not clear the output). The problems are based-off problems from Leetcode.*_\n"
   ]
  },
  {
   "cell_type": "code",
   "execution_count": 1,
   "metadata": {},
   "outputs": [
    {
     "name": "stdout",
     "output_type": "stream",
     "text": [
      "1\n"
     ]
    }
   ],
   "source": [
    "print((hash('Shahrzad') % 3) + 1)"
   ]
  },
  {
   "cell_type": "markdown",
   "metadata": {},
   "source": [
    "<details>\n",
    "  <summary>Question 1</summary>\n",
    "\n",
    "  # Question One: Check Duplicates in Tree\n",
    "\n",
    "  Given the `root` of a binary tree, check whether it is contains a duplicate value. If a duplicate exists, return the duplicate value. If there are multiple duplicates, return the one with the closest distance to the root. If no duplicate exists, return -1.\n",
    "\n",
    "  ## Examples\n",
    "\n",
    "  ### Example 1\n",
    "\n",
    "  ![](./images/q1_ex1.png)\n",
    "\n",
    "  Input: `root = [1, 2, 2, 3, 5, 6, 7]` *What traversal method is this?*\n",
    "\n",
    "  Output: 2\n",
    "\n",
    "  ### Example 2\n",
    "\n",
    "  ![](./images/q1_ex2.png)\n",
    "\n",
    "  Input: `root = [1, 10, 2, 3, 10, 12, 12]`\n",
    "\n",
    "  Output: 10\n",
    "\n",
    "  ### Example 3\n",
    "\n",
    "  ![](./images/q1_ex3.png)\n",
    "\n",
    "  Input: `root = [10, 9, 8, 7]`\n",
    "\n",
    "  Output: -1\n",
    "\n",
    "</details>\n",
    "\n",
    "#### Starter Code for Question 1"
   ]
  },
  {
   "cell_type": "code",
   "execution_count": 104,
   "metadata": {},
   "outputs": [],
   "source": [
    "from collections import deque"
   ]
  },
  {
   "cell_type": "code",
   "execution_count": 105,
   "metadata": {},
   "outputs": [],
   "source": [
    "# Definition for a binary tree node.\n",
    "class TreeNode(object):\n",
    "     def __init__(self, val = 0, left = None, right = None):\n",
    "         self.val = val # node value\n",
    "         self.left = left # left child node\n",
    "         self.right = right # right child node\n",
    "\n",
    "# function to check for duplicates in a binary tree      \n",
    "def is_duplicate(root: TreeNode) -> int:\n",
    "    if not root: # base case: if the tree is empty, return -1 as there are no nodes to check (prevents infinite recursion)\n",
    "        return -1\n",
    "  \n",
    "    queue = deque([root]) # initialize the queue with the root node to start Breadth-First Search traversal from the top\n",
    "    visited = set() # an empty set to track visited node values\n",
    "\n",
    "# perform BFS\n",
    "    while queue:\n",
    "        node = queue.popleft() # get the next node in the queue\n",
    "        \n",
    "        if node.val in visited: # check if the node's value is already visited\n",
    "            return node.val # return the duplicate value\n",
    "        visited.add(node.val) # mark the node's value as visited\n",
    "        \n",
    "        if node.left: # add the left child to the queue if it exists\n",
    "            queue.append(node.left)\n",
    "        if node.right: # add the right child to the queue if it exists\n",
    "            queue.append(node.right)\n",
    "    return -1 # return -1 if no duplicates are found\n",
    "\n",
    " "
   ]
  },
  {
   "cell_type": "markdown",
   "metadata": {},
   "source": [
    "<details>\n",
    "  <summary>Question 2</summary>\n",
    "\n",
    "  # Question Two: Path to Leaves\n",
    "\n",
    "  Given the `root` of a binary tree, return all root to leaf paths in any order.\n",
    "\n",
    "  ## Examples\n",
    "\n",
    "  ### Example 1\n",
    "\n",
    "  ![](./images/q1_ex1.png)\n",
    "\n",
    "  Input: `root = [1, 2, 2, 3, 5, 6, 7]` *What traversal method is this?*\n",
    "\n",
    "  Output: [[1, 2, 3], [1, 2, 5], [1, 2, 6], [1, 2, 7]]\n",
    "\n",
    "  ### Example 2\n",
    "\n",
    "  ![](./images/q1_ex3.png)\n",
    "\n",
    "  Input: `root = [10, 9, 7, 8]`\n",
    "\n",
    "  Output: [[10, 7], [10, 9, 8]]\n",
    "\n",
    "</details>\n",
    "\n",
    "#### Starter Code for Question 2"
   ]
  },
  {
   "cell_type": "code",
   "execution_count": null,
   "metadata": {},
   "outputs": [],
   "source": [
    "# Definition for a binary tree node.\n",
    "# class TreeNode(object):\n",
    "#     def __init__(self, val = 0, left = None, right = None):\n",
    "#         self.val = val\n",
    "#         self.left = left\n",
    "#         self.right = right\n",
    "def bt_path(root: TreeNode) -> List[List[int]]:\n",
    "  # TODO"
   ]
  },
  {
   "cell_type": "markdown",
   "metadata": {},
   "source": [
    "<details>\n",
    "  <summary>Question 3</summary>\n",
    "\n",
    "  # Question Three: Missing Number in Range\n",
    " \n",
    "  You are given a list containing `n` integers in the range `[0, n]`. Return a list of numbers that are missing from the range `[0, n]` of the array. If there is no missing number, return -1. Note, all the integers in the list may not be unique.\n",
    "  \n",
    "  ## Examples\n",
    "\n",
    "  ### Example 1\n",
    "\n",
    "  Input: `lst = [0, 2]`\n",
    "\n",
    "  Output: [1]\n",
    "\n",
    "  ### Example 2\n",
    "\n",
    "  Input: `lst = [5, 0, 1]`\n",
    "\n",
    "  Output: [2, 3, 4]\n",
    "\n",
    "  ### Example 3\n",
    "\n",
    "  Input: `lst = [6, 8, 2, 3, 5, 7, 0, 1, 10]`\n",
    "\n",
    "  Output: [4, 9]\n",
    "\n",
    "</details>\n",
    "\n",
    "#### Starter Code for Question 3\n"
   ]
  },
  {
   "cell_type": "code",
   "execution_count": null,
   "metadata": {},
   "outputs": [],
   "source": [
    "def missing_num(nums: List) -> int:\n",
    "  # TODO"
   ]
  },
  {
   "cell_type": "markdown",
   "metadata": {},
   "source": [
    "\n",
    "## Part 2:\n",
    "\n",
    "-   Paraphrase the problem in your own words\n"
   ]
  },
  {
   "cell_type": "code",
   "execution_count": null,
   "metadata": {},
   "outputs": [],
   "source": [
    "# Your answer here"
   ]
  },
  {
   "cell_type": "markdown",
   "metadata": {},
   "source": [
    "The task is to examine a binary tree and determine if any node value is duplicated.\\\n",
    "If duplicates exist, the value of the duplicate that is closest to the root of the tree needs to be returned.\\\n",
    "If there are no duplicates, -1 needs to be returned."
   ]
  },
  {
   "cell_type": "markdown",
   "metadata": {},
   "source": [
    "\n",
    "-   In the .md file containing your problem, there are examples that illustrate how the code should work. Create 2 new examples that demonstrate you understand the problem.\n"
   ]
  },
  {
   "cell_type": "code",
   "execution_count": 106,
   "metadata": {},
   "outputs": [
    {
     "name": "stdout",
     "output_type": "stream",
     "text": [
      "2\n",
      "10\n",
      "-1\n",
      "-1\n",
      "4\n"
     ]
    }
   ],
   "source": [
    "# Your answer here\n",
    "\n",
    "# check the function on example 1\n",
    "root1 = TreeNode(1)\n",
    "root1.left = TreeNode(2, TreeNode(3), TreeNode(5))\n",
    "root1.right = TreeNode(2, TreeNode(6), TreeNode(7))\n",
    "\n",
    "# check the function on example 2\n",
    "root2 = TreeNode(1)\n",
    "root2.left = TreeNode(10, TreeNode(8), TreeNode(10))\n",
    "root2.right = TreeNode(2, TreeNode(12), TreeNode(12))\n",
    "\n",
    "# check the function on example 3\n",
    "root3 = TreeNode(1)\n",
    "root3.left = TreeNode(9, TreeNode(3), None)\n",
    "root3.right = TreeNode(7, None, None)\n",
    "\n",
    "# new example 4\n",
    "root4 = TreeNode(1)\n",
    "root4.left = TreeNode(8, TreeNode(5), TreeNode(3))\n",
    "root4.right = TreeNode(7, TreeNode(9), TreeNode(2))\n",
    "\n",
    "# new example 5\n",
    "root5 = TreeNode(1)\n",
    "root5.left = TreeNode(12, TreeNode(4), TreeNode(6))\n",
    "root5.right = TreeNode(4, TreeNode(12), TreeNode(3))\n",
    "\n",
    "print (is_duplicate(root1))\n",
    "print (is_duplicate(root2))\n",
    "print (is_duplicate(root3))\n",
    "print (is_duplicate(root4))\n",
    "print (is_duplicate(root5))"
   ]
  },
  {
   "cell_type": "markdown",
   "metadata": {},
   "source": [
    "\n",
    "-   Code the solution to your assigned problem in Python (code chunk). Try to find the best time and space complexity solution!\n"
   ]
  },
  {
   "cell_type": "code",
   "execution_count": 103,
   "metadata": {},
   "outputs": [],
   "source": [
    "from collections import deque"
   ]
  },
  {
   "cell_type": "code",
   "execution_count": 107,
   "metadata": {},
   "outputs": [],
   "source": [
    "# Definition for a binary tree node.\n",
    "class TreeNode(object):\n",
    "     def __init__(self, val = 0, left = None, right = None):\n",
    "         self.val = val # node value\n",
    "         self.left = left # left child node\n",
    "         self.right = right # right child node\n",
    "\n",
    "# function to check for duplicates in a binary tree      \n",
    "def is_duplicate(root: TreeNode) -> int:\n",
    "    if not root: # base case: if the tree is empty, return -1 as there are no nodes to check (prevents infinite recursion)\n",
    "        return -1\n",
    "  \n",
    "    queue = deque([root]) # initialize the queue with the root node to start Breadth-First Search traversal from the top\n",
    "    visited = set() # an empty set to track visited node values\n",
    "\n",
    "# perform BFS\n",
    "    while queue:\n",
    "        node = queue.popleft() # get the next node in the queue\n",
    "        \n",
    "        if node.val in visited: # check if the node's value is already visited\n",
    "            return node.val # return the duplicate value\n",
    "        visited.add(node.val) # mark the node's value as visited\n",
    "        \n",
    "        if node.left: # add the left child to the queue if it exists\n",
    "            queue.append(node.left)\n",
    "        if node.right: # add the right child to the queue if it exists\n",
    "            queue.append(node.right)\n",
    "    return -1 # return -1 if no duplicates are found\n",
    "     "
   ]
  },
  {
   "cell_type": "markdown",
   "metadata": {},
   "source": [
    "\n",
    "-   Explain why your solution works\n"
   ]
  },
  {
   "cell_type": "code",
   "execution_count": null,
   "metadata": {},
   "outputs": [],
   "source": [
    "# Your answer here"
   ]
  },
  {
   "cell_type": "markdown",
   "metadata": {},
   "source": [
    "The solution works by using Breadth-First Search (BFS) to traverse the binary tree level by level from the root. This approach ensures that if a duplicate exists, it will be found at the closest level to the root. BFS guarantees that the first duplicate encountered is the closest because it processes nodes level by level. A set tracks node values to identify duplicates as they are encountered, allowing for quick detection. The 'deque' from 'collections' is used for efficient queue operations, which is crucial for maintaining BFS performance. If a duplicate is found, it is returned immediately, if no duplicates are found by the end of the traversal, the function returns -1.\n",
    "\n",
    "## Steps:\n",
    "\n",
    "#### Initialize BFS:\n",
    "Start with the root node in a queue using 'deque' from 'collections' for efficient append and pop operations.\n",
    "#### Track Values:\n",
    "Use a set to record visited node values.\n",
    "#### Process Nodes:\n",
    "Dequeue nodes one by one and check if their value is in the set:\n",
    "\n",
    "If it is: Return this value immediately, as it’s the closest duplicate found due to the BFS traversal.\\\n",
    "If not: Add the value to the set and continue processing.\n",
    "\n",
    "#### Continue BFS:\n",
    "Enqueue the left and right children of each node to ensure all nodes are visited.\n",
    "#### Finish:\n",
    "If no duplicates are found by the end of traversal, return -1."
   ]
  },
  {
   "cell_type": "markdown",
   "metadata": {},
   "source": [
    "\n",
    "-   Explain the problem’s time and space complexity\n"
   ]
  },
  {
   "cell_type": "code",
   "execution_count": null,
   "metadata": {},
   "outputs": [],
   "source": [
    "# Your answer here"
   ]
  },
  {
   "cell_type": "markdown",
   "metadata": {},
   "source": [
    "#### Time Complexity:\n",
    "O(N): Each node in the binary tree is visited once. The BFS traversal processes each node and its children in constant time, so the time complexity is linear with respect to the number of nodes, N.\n",
    "\n",
    "#### Space Complexity\n",
    "O(N): The space complexity is also O(N) due to the space needed for the queue and set.\n",
    "The queue can hold up to N nodes in the worst case when all nodes are at the last level.\n",
    "The set also stores up to N unique values (one for each node)."
   ]
  },
  {
   "cell_type": "markdown",
   "metadata": {},
   "source": [
    "\n",
    "-   Explain the thinking to an alternative solution (no coding required, but a classmate reading this should be able to code it up based off your text)\n"
   ]
  },
  {
   "cell_type": "code",
   "execution_count": null,
   "metadata": {},
   "outputs": [],
   "source": [
    "# Your answer here"
   ]
  },
  {
   "cell_type": "markdown",
   "metadata": {},
   "source": [
    "To explore an alternative solution for detecting duplicates in a binary tree, consider using a Depth-First Search (DFS) approach instead of BFS. Use a DFS approach to traverse the binary tree. You can use either Preorder, Inorder, or Postorder traversal. You may want to use a helper function to manage recursion.\n",
    "\n",
    "#### 1. Main Function:\n",
    "\n",
    "Initialize an empty set to keep track of visited node values.\n",
    "Start the DFS traversal by calling the helper function with the root node.\n",
    "\n",
    "#### 2. Helper Function:\n",
    "\n",
    "Base Case: If the current node is None, return immediately.\n",
    "\n",
    "Check for Duplicate: If the node value is already in the set, return this value as it’s the closest duplicate.\n",
    "\n",
    "Add Value: If the node value is not in the set, add it to the set.\n",
    "\n",
    "Recursive Calls: Recursively call the helper function for the left and right children of the current node.\n",
    "\n",
    "Return Result: Ensure the function returns the result of the recursive calls."
   ]
  },
  {
   "cell_type": "markdown",
   "metadata": {},
   "source": [
    "## Evaluation Criteria\n",
    "\n",
    "-   Problem is accurately stated\n",
    "\n",
    "-   Two examples are correct and easily understandable\n",
    "\n",
    "-   Correctness, time, and space complexity of the coding solution\n",
    "\n",
    "-   Clarity in explaining why the solution works, its time and space complexity\n",
    "\n",
    "-   Clarity in the proposal to the alternative solution"
   ]
  },
  {
   "cell_type": "markdown",
   "metadata": {},
   "source": [
    "## Submission Information\n",
    "\n",
    "🚨 **Please review our [Assignment Submission Guide](https://github.com/UofT-DSI/onboarding/blob/main/onboarding_documents/submissions.md)** 🚨 for detailed instructions on how to format, branch, and submit your work. Following these guidelines is crucial for your submissions to be evaluated correctly.\n",
    "\n",
    "### Submission Parameters:\n",
    "* Submission Due Date: `HH:MM AM/PM - DD/MM/YYYY`\n",
    "* The branch name for your repo should be: `assignment-1`\n",
    "* What to submit for this assignment:\n",
    "    * This Jupyter Notebook (assignment_1.ipynb) should be populated and should be the only change in your pull request.\n",
    "* What the pull request link should look like for this assignment: `https://github.com/<your_github_username>/algorithms_and_data_structures/pull/<pr_id>`\n",
    "    * Open a private window in your browser. Copy and paste the link to your pull request into the address bar. Make sure you can see your pull request properly. This helps the technical facilitator and learning support staff review your submission easily.\n",
    "\n",
    "Checklist:\n",
    "- [ ] Create a branch called `assignment-1`.\n",
    "- [ ] Ensure that the repository is public.\n",
    "- [ ] Review [the PR description guidelines](https://github.com/UofT-DSI/onboarding/blob/main/onboarding_documents/submissions.md#guidelines-for-pull-request-descriptions) and adhere to them.\n",
    "- [ ] Verify that the link is accessible in a private browser window.\n",
    "\n",
    "If you encounter any difficulties or have questions, please don't hesitate to reach out to our team via our Slack at `#cohort-3-help`. Our Technical Facilitators and Learning Support staff are here to help you navigate any challenges."
   ]
  }
 ],
 "metadata": {
  "kernelspec": {
   "display_name": "Python 3",
   "language": "python",
   "name": "python3"
  },
  "language_info": {
   "codemirror_mode": {
    "name": "ipython",
    "version": 3
   },
   "file_extension": ".py",
   "mimetype": "text/x-python",
   "name": "python",
   "nbconvert_exporter": "python",
   "pygments_lexer": "ipython3",
   "version": "3.9.15"
  }
 },
 "nbformat": 4,
 "nbformat_minor": 2
}
