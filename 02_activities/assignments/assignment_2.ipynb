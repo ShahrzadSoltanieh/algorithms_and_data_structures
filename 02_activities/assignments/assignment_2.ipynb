{
 "cells": [
  {
   "cell_type": "markdown",
   "metadata": {},
   "source": [
    "# Practice Interview\n",
    "\n",
    "## Objective\n",
    "\n",
    "_*The partner assignment aims to provide participants with the opportunity to practice coding in an interview context. You will analyze your partner's Assignment 1. Moreover, code reviews are common practice in a software development team. This assignment should give you a taste of the code review process.*_\n",
    "\n",
    "## Group Size\n",
    "\n",
    "Each group should have 2 people. You will be assigned a partner\n",
    "\n",
    "## Part 1:\n",
    "\n",
    "You and your partner must share each other's Assignment 1 submission."
   ]
  },
  {
   "cell_type": "markdown",
   "metadata": {},
   "source": [
    "\n",
    "## Part 2:\n",
    "\n",
    "Create a Jupyter Notebook, create 6 of the following headings, and complete the following for your partner's assignment 1:\n",
    "\n",
    "-   Paraphrase the problem in your own words.\n"
   ]
  },
  {
   "cell_type": "code",
   "execution_count": null,
   "metadata": {},
   "outputs": [],
   "source": [
    "# Your answer here"
   ]
  },
  {
   "cell_type": "markdown",
   "metadata": {},
   "source": [
    "Starting from the root of a binary tree, list all paths that go from the root to each leaf node in any order."
   ]
  },
  {
   "cell_type": "markdown",
   "metadata": {},
   "source": [
    "\n",
    "-   Create 1 new example that demonstrates you understand the problem. Trace/walkthrough 1 example that your partner made and explain it.\n"
   ]
  },
  {
   "cell_type": "code",
   "execution_count": 10,
   "metadata": {},
   "outputs": [
    {
     "name": "stdout",
     "output_type": "stream",
     "text": [
      "node 1\n",
      "path: [1]\n",
      "all paths: []\n",
      "node 3\n",
      "path: [1, 3]\n",
      "all paths: []\n",
      "node 5\n",
      "path: [1, 3, 5]\n",
      "all paths: []\n",
      "node 6\n",
      "path: [1, 3, 6]\n",
      "all paths: [[1, 3, 5]]\n",
      "node 4\n",
      "path: [1, 4]\n",
      "all paths: [[1, 3, 5], [1, 3, 6]]\n",
      "node 7\n",
      "path: [1, 4, 7]\n",
      "all paths: [[1, 3, 5], [1, 3, 6]]\n",
      "Final list of all paths: [[1, 3, 5], [1, 3, 6], [1, 4, 7]]\n"
     ]
    }
   ],
   "source": [
    "# Your answer here\n",
    "# new example\n",
    "root_new = TreeNode(val=1)\n",
    "root_new.left = TreeNode(val=3)\n",
    "root_new.right = TreeNode(val=4)\n",
    "root_new.left.left = TreeNode(val=5)\n",
    "root_new.left.right = TreeNode(val=6)\n",
    "root_new.right.right = TreeNode(val=7)\n",
    "\n",
    "btree_paths_new = bt_path(root_new)\n",
    "print(\"Final list of all paths:\", btree_paths_new)\n",
    "# Expected output: [[1, 3, 5], [1, 3, 6], [1, 4, 7]]"
   ]
  },
  {
   "cell_type": "code",
   "execution_count": 11,
   "metadata": {},
   "outputs": [
    {
     "name": "stdout",
     "output_type": "stream",
     "text": [
      "node 1\n",
      "path: [1]\n",
      "all paths: []\n",
      "node 2\n",
      "path: [1, 2]\n",
      "all paths: []\n",
      "node 3\n",
      "path: [1, 2, 3]\n",
      "all paths: []\n",
      "node 5\n",
      "path: [1, 2, 5]\n",
      "all paths: [[1, 2, 3]]\n",
      "node 2\n",
      "path: [1, 2]\n",
      "all paths: [[1, 2, 3], [1, 2, 5]]\n",
      "node 6\n",
      "path: [1, 2, 6]\n",
      "all paths: [[1, 2, 3], [1, 2, 5]]\n",
      "node 7\n",
      "path: [1, 2, 7]\n",
      "all paths: [[1, 2, 3], [1, 2, 5], [1, 2, 6]]\n",
      "Final list of all paths: [[1, 2, 3], [1, 2, 5], [1, 2, 6], [1, 2, 7]]\n"
     ]
    }
   ],
   "source": [
    "# Example 1\n",
    "root_example1 = TreeNode(val=1)\n",
    "root_example1.left = TreeNode(val=2)\n",
    "root_example1.right = TreeNode(val=2)\n",
    "root_example1.left.left = TreeNode(val=3)\n",
    "root_example1.left.right = TreeNode(val=5)\n",
    "root_example1.right.left = TreeNode(val=6)\n",
    "root_example1.right.right = TreeNode(val=7)\n",
    "\n",
    "btree_paths_example1 = bt_path(root_example1)\n",
    "print(\"Final list of all paths:\", btree_paths_example1)\n",
    "# Expected output: [[1, 2, 3], [1, 2, 5], [1, 2, 6], [1, 2, 7]]"
   ]
  },
  {
   "cell_type": "markdown",
   "metadata": {},
   "source": [
    "Walkthrough:\n",
    "\n",
    "Start at the root node (1).\\\n",
    "Move to the left child (2).\\\n",
    "From node 2, move to the left child (3). Since node 3 is a leaf, store the path [1, 2, 3].\\\n",
    "Backtrack to node 2, then move to the right child (5). Since node 5 is a leaf, store the path [1, 2, 5].\\\n",
    "Backtrack to the root node (1), then move to the right child (2).\\\n",
    "From node 2, move to the left child (6). Since node 6 is a leaf, store the path [1, 2, 6].\\\n",
    "Backtrack to node 2, then move to the right child (7). Since node 7 is a leaf, store the path [1, 2, 7].\\"
   ]
  },
  {
   "cell_type": "markdown",
   "metadata": {},
   "source": [
    "\n",
    "-   Copy the solution your partner wrote. \n"
   ]
  },
  {
   "cell_type": "code",
   "execution_count": 9,
   "metadata": {},
   "outputs": [
    {
     "name": "stdout",
     "output_type": "stream",
     "text": [
      "node 1\n",
      "path: [1]\n",
      "all paths: []\n",
      "node 2\n",
      "path: [1, 2]\n",
      "all paths: []\n",
      "node 3\n",
      "path: [1, 2, 3]\n",
      "all paths: []\n",
      "node 5\n",
      "path: [1, 2, 5]\n",
      "all paths: [[1, 2, 3]]\n",
      "node 2\n",
      "path: [1, 2]\n",
      "all paths: [[1, 2, 3], [1, 2, 5]]\n",
      "node 6\n",
      "path: [1, 2, 6]\n",
      "all paths: [[1, 2, 3], [1, 2, 5]]\n",
      "node 7\n",
      "path: [1, 2, 7]\n",
      "all paths: [[1, 2, 3], [1, 2, 5], [1, 2, 6]]\n",
      "final list of all paths: [[1, 2, 3], [1, 2, 5], [1, 2, 6], [1, 2, 7]]\n"
     ]
    }
   ],
   "source": [
    "# Your answer here\n",
    "\n",
    "# Definition for a binary tree node.\n",
    "class TreeNode(object):\n",
    "     def __init__(self, val = 0, left = None, right = None):\n",
    "         self.val = val\n",
    "         self.left = left\n",
    "         self.right = right\n",
    "\n",
    "root = TreeNode(val = 1)\n",
    "root.left = TreeNode(val = 2)\n",
    "root.right = TreeNode(val = 2)\n",
    "root.left.left = TreeNode(val = 3)\n",
    "root.left.right = TreeNode(val = 5)\n",
    "root.right.left = TreeNode(val = 6)\n",
    "root.right.right = TreeNode(val = 7)\n",
    "\n",
    "# preorder traversal\n",
    "def bt_path(root: TreeNode) -> list[list[int]]:\n",
    "   # TODO\n",
    "\n",
    "   def dfs (node:TreeNode, path, allpaths):\n",
    "\n",
    "      if node:\n",
    "         path.append(node.val)\n",
    "         # remove the comments to see what is happening on each recursive call\n",
    "         print (\"node\",node.val)\n",
    "         print (\"path:\",path)\n",
    "         print (\"all paths:\",allpaths)\n",
    "\n",
    "      if node.left:\n",
    "         dfs(node.left, path, allpaths)\n",
    "         path.pop() #remove the leaf number\n",
    "\n",
    "      if node.right:\n",
    "         dfs(node.right, path, allpaths)\n",
    "         path.pop() #remove the leaf number\n",
    "      \n",
    "      if not node.right and not node.left:\n",
    "         allpaths.append (path[:])\n",
    "         \n",
    "      return allpaths\n",
    "   \n",
    "   path=[]\n",
    "   allpaths=[]\n",
    "   path = dfs (root, path, allpaths)\n",
    "\n",
    "   return allpaths\n",
    "\n",
    "\n",
    "btree_paths = []\n",
    "btree_paths = bt_path(root)\n",
    "print (\"final list of all paths:\", btree_paths)"
   ]
  },
  {
   "cell_type": "markdown",
   "metadata": {},
   "source": [
    "\n",
    "-   Explain why their solution works in your own words.\n"
   ]
  },
  {
   "cell_type": "code",
   "execution_count": null,
   "metadata": {},
   "outputs": [],
   "source": [
    "# Your answer here"
   ]
  },
  {
   "cell_type": "markdown",
   "metadata": {},
   "source": [
    "Mario's solution works by performing a depth-first search (DFS) traversal of the binary tree. The DFS function is recursively called for each node, building paths from the root to each leaf. When a leaf node is reached, the current path is appended to the list of all paths. The use of DFS ensures that all paths are explored and recorded."
   ]
  },
  {
   "cell_type": "markdown",
   "metadata": {},
   "source": [
    "\n",
    "-   Explain the problem’s time and space complexity in your own words.\n"
   ]
  },
  {
   "cell_type": "code",
   "execution_count": null,
   "metadata": {},
   "outputs": [],
   "source": [
    "# Your answer here"
   ]
  },
  {
   "cell_type": "markdown",
   "metadata": {},
   "source": [
    "#### Time Complexity:\n",
    "O(N), where N is the number of nodes in the tree. Each node is visited once, and for each node, the path to that node is processed.\n",
    "\n",
    "#### Space Complexity:\n",
    "\n",
    "In the worst case (completely unbalanced tree), the space complexity is O(N) because the recursive stack could go up to the height of the tree (N nodes).\\\n",
    "In the best case (completely balanced tree), the space complexity is O(log N) due to the height of the tree."
   ]
  },
  {
   "cell_type": "markdown",
   "metadata": {},
   "source": [
    "\n",
    "-   Critique your partner's solution, including explanation, and if there is anything that should be adjusted.\n"
   ]
  },
  {
   "cell_type": "code",
   "execution_count": null,
   "metadata": {},
   "outputs": [],
   "source": [
    "# Your answer here"
   ]
  },
  {
   "cell_type": "markdown",
   "metadata": {},
   "source": [
    "Mario's solution to finding all root-to-leaf paths in a binary tree is well-structured and effectively uses a depth-first search (DFS) approach. However, there are a few points worth mentioning:\n",
    "\n",
    "-   The code could benefit from additional comments explaining each part of the DFS function for better readability and maintainability.\n",
    "-   The solution does not include an explicit base case for handling 'None' nodes within the 'dfs' function. Adding a base case to handle 'None' nodes ensures that the function does not attempt to process None nodes, which can lead to errors.\n",
    "-   The initialization of the example tree at the beginning of the code ('root = TreeNode(val=1) ...') is not necessary for the function definition itself. This part is better suited for the testing section or can be moved outside the function to avoid confusion. The function bt_path should only contain the core logic for solving the problem for clarity and reusability.\n",
    "-   The print statements within the DFS function, are useful for debugging but should be removed or clearly commented out in the final version of the code. This ensures that the function outputs only the necessary results and is cleaner for production use."
   ]
  },
  {
   "cell_type": "markdown",
   "metadata": {},
   "source": [
    "\n",
    "## Part 3:\n",
    "\n",
    "Please write a 200 word reflection documenting your process from assignment 1, and your presentation and review experience with your partner at the bottom of the Jupyter Notebook under a new heading \"Reflection.\" Again, export this Notebook as pdf.\n"
   ]
  },
  {
   "cell_type": "markdown",
   "metadata": {},
   "source": [
    "### Reflection"
   ]
  },
  {
   "cell_type": "code",
   "execution_count": null,
   "metadata": {},
   "outputs": [],
   "source": [
    "# Your answer here"
   ]
  },
  {
   "cell_type": "markdown",
   "metadata": {},
   "source": [
    "In Assignment 1, I worked on detecting duplicates in a binary tree using BFS, which gave me a deep understanding of tree traversal techniques and the importance of efficient data structures like deque and sets. This understanding was further enhanced when reviewing Mario's work on finding all root-to-leaf paths using DFS. It was interesting to see the differences in our approaches and how both BFS and DFS can be applied to solve tree-related problems effectively.\\\n",
    "Presenting Mario's work required me to dive into his thought process, paraphrase the problem, and critically analyze his solution, which was a valuable learning experience. Overall, this process emphasized the importance of thorough problem analysis, clear communication, and the ability to adapt and learn from others' approaches in collaborative environments."
   ]
  },
  {
   "cell_type": "markdown",
   "metadata": {},
   "source": [
    "\n",
    "## Evaluation Criteria\n",
    "\n",
    "We are looking for the similar points as Assignment 1\n",
    "\n",
    "-   Problem is accurately stated\n",
    "\n",
    "-   New example is correct and easily understandable\n",
    "\n",
    "-   Correctness, time, and space complexity of the coding solution\n",
    "\n",
    "-   Clarity in explaining why the solution works, its time and space complexity\n",
    "\n",
    "-   Quality of critique of your partner's assignment, if necessary\n"
   ]
  },
  {
   "cell_type": "markdown",
   "metadata": {},
   "source": [
    "## Submission Information\n",
    "\n",
    "🚨 **Please review our [Assignment Submission Guide](https://github.com/UofT-DSI/onboarding/blob/main/onboarding_documents/submissions.md)** 🚨 for detailed instructions on how to format, branch, and submit your work. Following these guidelines is crucial for your submissions to be evaluated correctly.\n",
    "\n",
    "### Submission Parameters:\n",
    "* Submission Due Date: `HH:MM AM/PM - DD/MM/YYYY`\n",
    "* The branch name for your repo should be: `assignment-2`\n",
    "* What to submit for this assignment:\n",
    "    * This Jupyter Notebook (assignment_2.ipynb) should be populated and should be the only change in your pull request.\n",
    "* What the pull request link should look like for this assignment: `https://github.com/<your_github_username>/algorithms_and_data_structures/pull/<pr_id>`\n",
    "    * Open a private window in your browser. Copy and paste the link to your pull request into the address bar. Make sure you can see your pull request properly. This helps the technical facilitator and learning support staff review your submission easily.\n",
    "\n",
    "Checklist:\n",
    "- [x ] Created a branch with the correct naming convention.\n",
    "- [x ] Ensured that the repository is public.\n",
    "- [x ] Reviewed the PR description guidelines and adhered to them.\n",
    "- [x ] Verify that the link is accessible in a private browser window.\n",
    "\n",
    "If you encounter any difficulties or have questions, please don't hesitate to reach out to our team via our Slack at `#cohort-3-help`. Our Technical Facilitators and Learning Support staff are here to help you navigate any challenges.\n"
   ]
  }
 ],
 "metadata": {
  "kernelspec": {
   "display_name": "Python 3",
   "language": "python",
   "name": "python3"
  },
  "language_info": {
   "codemirror_mode": {
    "name": "ipython",
    "version": 3
   },
   "file_extension": ".py",
   "mimetype": "text/x-python",
   "name": "python",
   "nbconvert_exporter": "python",
   "pygments_lexer": "ipython3",
   "version": "3.9.15"
  }
 },
 "nbformat": 4,
 "nbformat_minor": 2
}
